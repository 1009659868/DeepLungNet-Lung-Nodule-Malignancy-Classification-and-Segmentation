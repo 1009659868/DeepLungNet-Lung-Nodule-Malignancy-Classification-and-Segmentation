{
 "cells": [
  {
   "cell_type": "code",
   "execution_count": null,
   "metadata": {
    "collapsed": true
   },
   "outputs": [],
   "source": []
  },
  {
   "cell_type": "code",
   "execution_count": 1,
   "outputs": [
    {
     "name": "stderr",
     "output_type": "stream",
     "text": [
      "Using TensorFlow backend.\n",
      "D:\\Develop\\my_env\\Python37\\Lib\\site-packages\\tensorflow\\python\\framework\\dtypes.py:526: FutureWarning: Passing (type, 1) or '1type' as a synonym of type is deprecated; in a future version of numpy, it will be understood as (type, (1,)) / '(1,)type'.\n",
      "  _np_qint8 = np.dtype([(\"qint8\", np.int8, 1)])\n",
      "D:\\Develop\\my_env\\Python37\\Lib\\site-packages\\tensorflow\\python\\framework\\dtypes.py:527: FutureWarning: Passing (type, 1) or '1type' as a synonym of type is deprecated; in a future version of numpy, it will be understood as (type, (1,)) / '(1,)type'.\n",
      "  _np_quint8 = np.dtype([(\"quint8\", np.uint8, 1)])\n",
      "D:\\Develop\\my_env\\Python37\\Lib\\site-packages\\tensorflow\\python\\framework\\dtypes.py:528: FutureWarning: Passing (type, 1) or '1type' as a synonym of type is deprecated; in a future version of numpy, it will be understood as (type, (1,)) / '(1,)type'.\n",
      "  _np_qint16 = np.dtype([(\"qint16\", np.int16, 1)])\n",
      "D:\\Develop\\my_env\\Python37\\Lib\\site-packages\\tensorflow\\python\\framework\\dtypes.py:529: FutureWarning: Passing (type, 1) or '1type' as a synonym of type is deprecated; in a future version of numpy, it will be understood as (type, (1,)) / '(1,)type'.\n",
      "  _np_quint16 = np.dtype([(\"quint16\", np.uint16, 1)])\n",
      "D:\\Develop\\my_env\\Python37\\Lib\\site-packages\\tensorflow\\python\\framework\\dtypes.py:530: FutureWarning: Passing (type, 1) or '1type' as a synonym of type is deprecated; in a future version of numpy, it will be understood as (type, (1,)) / '(1,)type'.\n",
      "  _np_qint32 = np.dtype([(\"qint32\", np.int32, 1)])\n",
      "D:\\Develop\\my_env\\Python37\\Lib\\site-packages\\tensorflow\\python\\framework\\dtypes.py:535: FutureWarning: Passing (type, 1) or '1type' as a synonym of type is deprecated; in a future version of numpy, it will be understood as (type, (1,)) / '(1,)type'.\n",
      "  np_resource = np.dtype([(\"resource\", np.ubyte, 1)])\n"
     ]
    },
    {
     "name": "stdout",
     "output_type": "stream",
     "text": [
      " * Serving Flask app '__main__'\n",
      " * Debug mode: off\n"
     ]
    },
    {
     "name": "stderr",
     "output_type": "stream",
     "text": [
      "WARNING: This is a development server. Do not use it in a production deployment. Use a production WSGI server instead.\n",
      " * Running on http://127.0.0.1:5000\n",
      "Press CTRL+C to quit\n",
      "127.0.0.1 - - [25/Apr/2024 11:41:17] \"POST /login HTTP/1.1\" 404 -\n"
     ]
    }
   ],
   "source": [
    "from flask import Flask,request,jsonify,send_file,send_from_directory\n",
    "from PIL import Image\n",
    "import  os\n",
    "from datetime import datetime\n",
    "from IDNS import prediction\n",
    "import tensorflow as tf\n",
    "\n",
    "app=Flask(__name__)\n",
    "\n",
    "pre = None\n",
    "\n",
    "@app.route(\"/\")\n",
    "def index():\n",
    "\n",
    "    return \"hello world!\"\n",
    "\n",
    "@app.route(\"/testGO\",methods=[\"GET\",\"POST\"])\n",
    "def testGO():\n",
    "    predictions=pre.run('')\n",
    "\n",
    "    return \"FAQ\"\n",
    "\n",
    "@app.route(\"/predict\",methods=[\"GET\",\"POST\"])\n",
    "def predict():\n",
    "    global pre\n",
    "    if pre is None:\n",
    "        pre = prediction.Pre()\n",
    "    predictions=pre.run('')\n",
    "    print(predictions)\n",
    "    print(\"类型:\",type(predictions))\n",
    "    response = {\n",
    "        \"predictions\": {\n",
    "            \"value1\": predictions[0][0],\n",
    "            \"value2\": predictions[0][1]\n",
    "        }\n",
    "    }\n",
    "    return jsonify(response)\n",
    "    # return \"Predictions:({:.6f},{:.6f});\".format(predictions[0][0], predictions[0][1])\n",
    "\n",
    "@app.route(\"/getSort\", methods=[\"GET\", \"POST\"])\n",
    "def getSort():\n",
    "    print(\"come!!!\")\n",
    "    showRequest(request)\n",
    "    if request.method == \"POST\":\n",
    "        # 检查 POST 请求中是否包含文件部分\n",
    "        if 'file' not in request.files:\n",
    "            return jsonify({\"error\": \"No file part\"})\n",
    "\n",
    "        uploaded_file = request.files['file']\n",
    "\n",
    "        # 如果用户没有选择文件，则浏览器会提交一个没有文件名的空文件\n",
    "        if uploaded_file.filename == '':\n",
    "            return jsonify({\"error\": \"No selected file\"})\n",
    "\n",
    "        # 在这里，可以将上传的文件保存到指定的位置\n",
    "        save_folder='img/'\n",
    "        #将上传文件的文件名统一为:('用户名_时间.png')的格式\n",
    "        # 获取当前时间\n",
    "        current_time = datetime.now().strftime('%Y%m%d%H%M%S')\n",
    "\n",
    "        # 获取用户名，这里假设用户名为\"user\"\n",
    "        username = \"user\"\n",
    "\n",
    "        # 构建新文件名\n",
    "        new_file_name = f'{username}_{current_time}.png'\n",
    "\n",
    "        # 构建新文件路径\n",
    "        new_file_path = os.path.join(save_folder, new_file_name)\n",
    "\n",
    "        # 保存文件\n",
    "        uploaded_file.save(new_file_path)\n",
    "        # 处理上传的文件并进行必要的识别处理\n",
    "\n",
    "        # 将识别结果返回给前端\n",
    "        if(Image.open(new_file_path)!=None):\n",
    "            print(\"save success do somthing\")\n",
    "        result = {\n",
    "                \"code\":200,\n",
    "                 \"imagePath\":new_file_name\n",
    "                # 添加识别结果数据\n",
    "            }\n",
    "\n",
    "        return jsonify(result)\n",
    "    else:\n",
    "        # 处理 GET 请求（如果需要的话）\n",
    "        return \"这是对 getSort 的 GET 请求\"\n",
    "\n",
    "\n",
    "\n",
    "@app.route('/showImage/<fileName>')\n",
    "def showImage(fileName):\n",
    "    # return f'{fileName}'\n",
    "    return send_from_directory('../Back-End_Nodule-Sorting-System/img/', f'{fileName}')\n",
    "\n",
    "def showRequest(request):\n",
    "     # 输出请求方法\n",
    "    print(\"Request Method:\", request.method)\n",
    "\n",
    "    # 输出请求表单数据\n",
    "    print(\"Form Data:\", request.form)\n",
    "\n",
    "    # 输出请求文件数据\n",
    "    print(\"Files:\", request.files)\n",
    "\n",
    "    # 输出请求头信息\n",
    "    print(\"Headers:\", request.headers)\n",
    "\n",
    "    # 输出请求参数\n",
    "    print(\"Arguments:\", request.args)\n",
    "\n",
    "    # 输出请求原始数据（通常在 POST 请求中使用）\n",
    "    print(\"Raw Data:\", request.data)\n",
    "\n",
    "\n",
    "\n",
    "if __name__=='__main__':\n",
    "    # 在 Flask 应用中使用 TensorFlow 图的上下文管理器\n",
    "    app.run(host=\"127.0.0.1\", port=5000)\n",
    "\n"
   ],
   "metadata": {
    "collapsed": false
   }
  },
  {
   "cell_type": "code",
   "execution_count": 1,
   "outputs": [],
   "source": [],
   "metadata": {
    "collapsed": false
   }
  },
  {
   "cell_type": "code",
   "execution_count": 1,
   "outputs": [],
   "source": [],
   "metadata": {
    "collapsed": false
   }
  }
 ],
 "metadata": {
  "kernelspec": {
   "display_name": "Python 3",
   "language": "python",
   "name": "python3"
  },
  "language_info": {
   "codemirror_mode": {
    "name": "ipython",
    "version": 2
   },
   "file_extension": ".py",
   "mimetype": "text/x-python",
   "name": "python",
   "nbconvert_exporter": "python",
   "pygments_lexer": "ipython2",
   "version": "2.7.6"
  }
 },
 "nbformat": 4,
 "nbformat_minor": 0
}
